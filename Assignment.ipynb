{
 "cells": [
  {
   "cell_type": "markdown",
   "id": "41f3a62e",
   "metadata": {},
   "source": [
    "# The per-unit charges in rupees are as follows: For the first 100 units, the user will be charged Rs. 4.5 per"
   ]
  },
  {
   "cell_type": "code",
   "execution_count": 1,
   "id": "8ee98f56",
   "metadata": {},
   "outputs": [
    {
     "name": "stdout",
     "output_type": "stream",
     "text": [
      "Enter your unit310\n",
      "The total electricity bill for 310 units is: Rs. 3250.0\n"
     ]
    }
   ],
   "source": [
    "unit = int(input(\"Enter your unit\"))\n",
    "total_bills = 0\n",
    "if unit <= 100:\n",
    "    total_bills = unit * 4.5\n",
    "elif unit <= 200:\n",
    "    total_bills = 100 * 4.5 + (units-100) * 6\n",
    "elif unit <= 300:\n",
    "    total_bills = 100 * 4.5 + 100 * 6 + (unit - 200) * 10\n",
    "else:\n",
    "    total_bills = 100 * 4.5 + 100 * 6 + 200 * 10 + (unit - 300) * 20\n",
    "print(f\"The total electricity bill for {unit} units is: Rs. {total_bills}\")"
   ]
  },
  {
   "cell_type": "markdown",
   "id": "d28d769f",
   "metadata": {},
   "source": [
    "# Create a list of numbers from 1 to 100. Use for loop and while loop to calculate the cube of each"
   ]
  },
  {
   "cell_type": "code",
   "execution_count": 2,
   "id": "7da3362a",
   "metadata": {},
   "outputs": [
    {
     "name": "stdout",
     "output_type": "stream",
     "text": [
      "Numbers whose cubes are divisible by 4 or 5 (using for loop): [2, 4, 5, 6, 8, 10, 12, 14, 15, 16, 18, 20, 22, 24, 25, 26, 28, 30, 32, 34, 35, 36, 38, 40, 42, 44, 45, 46, 48, 50, 52, 54, 55, 56, 58, 60, 62, 64, 65, 66, 68, 70, 72, 74, 75, 76, 78, 80, 82, 84, 85, 86, 88, 90, 92, 94, 95, 96, 98, 100]\n"
     ]
    }
   ],
   "source": [
    "number= []\n",
    "for num in range(1,101):\n",
    "    cube = num **3\n",
    "    if cube %4==0 or cube %5==0:\n",
    "        number.append(num)\n",
    "print(\"Numbers whose cubes are divisible by 4 or 5 (using for loop):\", number)\n",
    "        \n",
    "    "
   ]
  },
  {
   "cell_type": "markdown",
   "id": "3cdedc52",
   "metadata": {},
   "source": [
    "# While Loop"
   ]
  },
  {
   "cell_type": "code",
   "execution_count": null,
   "id": "dc7377ae",
   "metadata": {},
   "outputs": [],
   "source": [
    "number = []\n",
    "num = 1\n",
    "while num <= 100:\n",
    "    cube = num **3\n",
    "    if cube %4==0 or cube %5==0:\n",
    "        number.append(num)\n",
    "        num = num +1 \n",
    "print(\"Numbers whose cubes are divisible by 4 or 5:\", number)\n",
    "        \n",
    "    "
   ]
  },
  {
   "cell_type": "markdown",
   "id": "06ccb1de",
   "metadata": {},
   "source": [
    "# Write a program to filter count vowels in the below-given string.\n",
    "\n"
   ]
  },
  {
   "cell_type": "code",
   "execution_count": null,
   "id": "d830f40a",
   "metadata": {},
   "outputs": [],
   "source": [
    "string = \"I want to become a data scientist\"\n",
    "vowel_count = 0\n",
    "for char in string:\n",
    "    if char.lower() in 'aeiou':\n",
    "        vowel_count += 1\n",
    "print(\"Number of vowels:\", vowel_count) "
   ]
  },
  {
   "cell_type": "code",
   "execution_count": null,
   "id": "f5e11765",
   "metadata": {},
   "outputs": [],
   "source": []
  }
 ],
 "metadata": {
  "kernelspec": {
   "display_name": "Python 3 (ipykernel)",
   "language": "python",
   "name": "python3"
  },
  "language_info": {
   "codemirror_mode": {
    "name": "ipython",
    "version": 3
   },
   "file_extension": ".py",
   "mimetype": "text/x-python",
   "name": "python",
   "nbconvert_exporter": "python",
   "pygments_lexer": "ipython3",
   "version": "3.11.5"
  }
 },
 "nbformat": 4,
 "nbformat_minor": 5
}
