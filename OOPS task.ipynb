{
 "cells": [
  {
   "cell_type": "markdown",
   "id": "45a2e502",
   "metadata": {},
   "source": [
    "# 1 Create a vehicle class with an init method having instance variables as name_of_vehicle, max_speed and average_of_vechile"
   ]
  },
  {
   "cell_type": "code",
   "execution_count": 1,
   "id": "6cb6001a",
   "metadata": {},
   "outputs": [],
   "source": [
    "class vechile:\n",
    "    def __init__(self , name_vechile , max_speed , avg_of_vechile):\n",
    "        self.__name_vechile = name_vechile\n",
    "        self.__max_speed = max_speed\n",
    "        self.__avg_of_vechile = avg_of_vechile\n",
    "    "
   ]
  },
  {
   "cell_type": "code",
   "execution_count": 2,
   "id": "718ebc81",
   "metadata": {},
   "outputs": [],
   "source": [
    "c = vechile(\"SUV\",120,6)"
   ]
  },
  {
   "cell_type": "code",
   "execution_count": 3,
   "id": "249aeabd",
   "metadata": {},
   "outputs": [
    {
     "data": {
      "text/plain": [
       "'SUV'"
      ]
     },
     "execution_count": 3,
     "metadata": {},
     "output_type": "execute_result"
    }
   ],
   "source": [
    "c._vechile__name_vechile"
   ]
  },
  {
   "cell_type": "code",
   "execution_count": 4,
   "id": "50a01272",
   "metadata": {},
   "outputs": [
    {
     "data": {
      "text/plain": [
       "120"
      ]
     },
     "execution_count": 4,
     "metadata": {},
     "output_type": "execute_result"
    }
   ],
   "source": [
    "c._vechile__max_speed"
   ]
  },
  {
   "cell_type": "code",
   "execution_count": 5,
   "id": "433a45e5",
   "metadata": {},
   "outputs": [
    {
     "data": {
      "text/plain": [
       "6"
      ]
     },
     "execution_count": 5,
     "metadata": {},
     "output_type": "execute_result"
    }
   ],
   "source": [
    "c._vechile__avg_of_vechile"
   ]
  },
  {
   "cell_type": "markdown",
   "id": "6187d6a2",
   "metadata": {},
   "source": [
    "# 2 Create a child class car from the vehicle class created in Que 1, which will inherit the vehicle class.Create a method named seating_capacity which takes capacity as an argument and returns the name ofthe vehicle and its seating capacity."
   ]
  },
  {
   "cell_type": "code",
   "execution_count": 9,
   "id": "3b91c703",
   "metadata": {},
   "outputs": [],
   "source": [
    "class vechile:\n",
    "    def __init__(self , name , model):\n",
    "        self.name = name\n",
    "        self.model = model\n",
    "        \n",
    "        \n",
    "    def display_info(self):\n",
    "        return f\"Vehicle Name: {self.name}, Model: {self.model}\"\n",
    "\n",
    "class car(vechile):\n",
    "    def __init__(self,name,model):\n",
    "            super().__init__(name,model)\n",
    "            \n",
    "    def seating_capacity(self,capacity):\n",
    "        return f\"{self.name} has a seating capacity of {capacity}.\"\n",
    "        "
   ]
  },
  {
   "cell_type": "code",
   "execution_count": 10,
   "id": "1d3deaac",
   "metadata": {},
   "outputs": [],
   "source": [
    "vechile1 = vechile(\"Tata\",\"100\")"
   ]
  },
  {
   "cell_type": "code",
   "execution_count": 11,
   "id": "c23790c7",
   "metadata": {},
   "outputs": [],
   "source": [
    "c = car(\"SUV\",\"500\")"
   ]
  },
  {
   "cell_type": "code",
   "execution_count": 12,
   "id": "393dec68",
   "metadata": {},
   "outputs": [
    {
     "name": "stdout",
     "output_type": "stream",
     "text": [
      "Vehicle Name: SUV, Model: 500\n"
     ]
    }
   ],
   "source": [
    "print(c.display_info())"
   ]
  },
  {
   "cell_type": "code",
   "execution_count": 13,
   "id": "b6db5851",
   "metadata": {},
   "outputs": [
    {
     "name": "stdout",
     "output_type": "stream",
     "text": [
      "SUV has a seating capacity of 8.\n"
     ]
    }
   ],
   "source": [
    "print(c.seating_capacity(8))"
   ]
  },
  {
   "cell_type": "markdown",
   "id": "1b061231",
   "metadata": {},
   "source": [
    "# 3 What is multiple inheritance? Write a python code to demonstrate multiple inheritance."
   ]
  },
  {
   "cell_type": "markdown",
   "id": "152a10d1",
   "metadata": {},
   "source": [
    "Multiple inheritance is a concept in object-oriented programming where a class can derive characteristics and behavior from more than one base class. This enables a class to gather and merge features from multiple origins."
   ]
  },
  {
   "cell_type": "code",
   "execution_count": 16,
   "id": "15d8795a",
   "metadata": {},
   "outputs": [
    {
     "name": "stdout",
     "output_type": "stream",
     "text": [
      "Animal makes a sound\n",
      "Bird can fly\n",
      "Eagle hunts for prey\n"
     ]
    }
   ],
   "source": [
    "class Animal:\n",
    "    def speak(self):\n",
    "        print(\"Animal makes a sound\")\n",
    "\n",
    "class Bird:\n",
    "    def fly(self):\n",
    "        print(\"Bird can fly\")\n",
    "\n",
    "\n",
    "class Eagle(Animal, Bird):\n",
    "    def hunt(self):\n",
    "        print(\"Eagle hunts for prey\")\n",
    "\n",
    "\n",
    "eagle = Eagle()\n",
    "\n",
    "\n",
    "eagle.speak()  \n",
    "eagle.fly()    \n",
    "eagle.hunt()   \n",
    "\n"
   ]
  }
 ],
 "metadata": {
  "kernelspec": {
   "display_name": "Python 3 (ipykernel)",
   "language": "python",
   "name": "python3"
  },
  "language_info": {
   "codemirror_mode": {
    "name": "ipython",
    "version": 3
   },
   "file_extension": ".py",
   "mimetype": "text/x-python",
   "name": "python",
   "nbconvert_exporter": "python",
   "pygments_lexer": "ipython3",
   "version": "3.11.5"
  }
 },
 "nbformat": 4,
 "nbformat_minor": 5
}
