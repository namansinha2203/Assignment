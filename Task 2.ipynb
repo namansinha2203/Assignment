{
 "cells": [
  {
   "cell_type": "markdown",
   "id": "f28654bc",
   "metadata": {},
   "source": [
    "# 1 Which keyword is used to create function? Create a function to return a list of odd numbers in range of 1 to 25"
   ]
  },
  {
   "cell_type": "markdown",
   "id": "944e5947",
   "metadata": {},
   "source": [
    "Def is used to define function in Python"
   ]
  },
  {
   "cell_type": "code",
   "execution_count": 1,
   "id": "0bb9b5f8",
   "metadata": {},
   "outputs": [],
   "source": [
    "def odd_number():\n",
    "    odd_numbers = []\n",
    "    for i in range(1,26):\n",
    "        if i % 2!=0:\n",
    "            odd_numbers.append(i)\n",
    "    return odd_numbers\n",
    "            "
   ]
  },
  {
   "cell_type": "code",
   "execution_count": 2,
   "id": "ca9592cb",
   "metadata": {},
   "outputs": [
    {
     "data": {
      "text/plain": [
       "[1, 3, 5, 7, 9, 11, 13, 15, 17, 19, 21, 23, 25]"
      ]
     },
     "execution_count": 2,
     "metadata": {},
     "output_type": "execute_result"
    }
   ],
   "source": [
    "odd_number()"
   ]
  },
  {
   "cell_type": "markdown",
   "id": "80f9a064",
   "metadata": {},
   "source": [
    "# 2 Why *argws and *kwargs used in some function? Create a function each for *argws and *kwargs"
   ]
  },
  {
   "cell_type": "markdown",
   "id": "a4ff713d",
   "metadata": {},
   "source": [
    "Args = It is used for passing the argument in function\n",
    "Kwargs = It is used for passing the key value in function"
   ]
  },
  {
   "cell_type": "code",
   "execution_count": 3,
   "id": "6cbc1ac9",
   "metadata": {},
   "outputs": [],
   "source": [
    "def test(*args,a):\n",
    "    return args,a"
   ]
  },
  {
   "cell_type": "code",
   "execution_count": 4,
   "id": "476333f9",
   "metadata": {},
   "outputs": [
    {
     "data": {
      "text/plain": [
       "((5548,), 48)"
      ]
     },
     "execution_count": 4,
     "metadata": {},
     "output_type": "execute_result"
    }
   ],
   "source": [
    "test(5548,a =48)"
   ]
  },
  {
   "cell_type": "code",
   "execution_count": 5,
   "id": "782f429a",
   "metadata": {},
   "outputs": [],
   "source": [
    "def test2(*kwargs,a):\n",
    "    return kwargs,a"
   ]
  },
  {
   "cell_type": "code",
   "execution_count": 6,
   "id": "4e75d253",
   "metadata": {},
   "outputs": [
    {
     "data": {
      "text/plain": [
       "((5545,), 555)"
      ]
     },
     "execution_count": 6,
     "metadata": {},
     "output_type": "execute_result"
    }
   ],
   "source": [
    "test2(5545,a= 555)"
   ]
  },
  {
   "cell_type": "markdown",
   "id": "f241e59d",
   "metadata": {},
   "source": [
    "# 3 What is an iterator in python? Name the method used to initialise the iterator object and the method used for iteration "
   ]
  },
  {
   "cell_type": "code",
   "execution_count": 7,
   "id": "e358f0c6",
   "metadata": {},
   "outputs": [
    {
     "name": "stdout",
     "output_type": "stream",
     "text": [
      "2\n",
      "4\n",
      "6\n",
      "8\n",
      "10\n"
     ]
    }
   ],
   "source": [
    "numbers = [2,4,6,8,10,12,14,16,18,20]\n",
    "iteration = iter(numbers)\n",
    "for numbers in range(5):\n",
    "    print(next(iteration))"
   ]
  },
  {
   "cell_type": "markdown",
   "id": "477796be",
   "metadata": {},
   "source": [
    "# 4 Create a generator function for prime numbers less than 1000. Use the next() method to print the first 20 prime number"
   ]
  },
  {
   "cell_type": "code",
   "execution_count": null,
   "id": "8849539c",
   "metadata": {},
   "outputs": [],
   "source": [
    "def primes():\n",
    "    num = 2\n",
    "    while num < 1000:\n",
    "        is_prime = True\n",
    "        for i in range(2,21):\n",
    "            if num % 2 == 0:\n",
    "                is_prime = False\n",
    "                break\n",
    "            if is_prime:\n",
    "                yield num\n",
    "                num = num +1  \n",
    "prime_gen = primes()\n",
    "print(next(prime_gen))\n",
    "\n",
    "            "
   ]
  },
  {
   "cell_type": "markdown",
   "id": "7156b877",
   "metadata": {},
   "source": [
    "# Write a python code for fibonnaci series using while loop"
   ]
  },
  {
   "cell_type": "code",
   "execution_count": null,
   "id": "a766b839",
   "metadata": {},
   "outputs": [],
   "source": [
    "num = int(input(\"Enter your number\"))\n",
    "a = 0\n",
    "b = 1\n",
    "counter = 0\n",
    "while counter < num:\n",
    "    print(a)\n",
    "    c = a+b\n",
    "    a = b\n",
    "    b = c\n",
    "counter = counter + 1"
   ]
  },
  {
   "cell_type": "markdown",
   "id": "ac43981b",
   "metadata": {},
   "source": [
    "# Write a List Comprehension to iterate through the given string: ‘pwskills’"
   ]
  },
  {
   "cell_type": "code",
   "execution_count": null,
   "id": "4f3ca082",
   "metadata": {},
   "outputs": [],
   "source": [
    "result = [char for char in 'pwskills']\n",
    "print(result)\n"
   ]
  },
  {
   "cell_type": "markdown",
   "id": "3a80904a",
   "metadata": {},
   "source": [
    "# Write a python program to check whether a given number is Palindrome or not using a while loop."
   ]
  },
  {
   "cell_type": "code",
   "execution_count": null,
   "id": "1f9116ec",
   "metadata": {},
   "outputs": [],
   "source": [
    "num = int(input(\"Enter your number\"))\n",
    "original_num = num\n",
    "reversed_num = 0\n",
    "while num > 0:\n",
    "    last_digit = num % 10\n",
    "    reversed_num = reversed_num * 10 + last_digit\n",
    "    num = num \\\\ 10\n",
    "    if original_num == reversed_num:\n",
    "        print(f\"{original_num} is a Palindrome.\")\n",
    "    else:\n",
    "        print(f\"{original_num} is not a Palindrome.\")"
   ]
  },
  {
   "cell_type": "code",
   "execution_count": null,
   "id": "221cc256",
   "metadata": {},
   "outputs": [],
   "source": []
  }
 ],
 "metadata": {
  "kernelspec": {
   "display_name": "Python 3 (ipykernel)",
   "language": "python",
   "name": "python3"
  },
  "language_info": {
   "codemirror_mode": {
    "name": "ipython",
    "version": 3
   },
   "file_extension": ".py",
   "mimetype": "text/x-python",
   "name": "python",
   "nbconvert_exporter": "python",
   "pygments_lexer": "ipython3",
   "version": "3.11.5"
  }
 },
 "nbformat": 4,
 "nbformat_minor": 5
}
