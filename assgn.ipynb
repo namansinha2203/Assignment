{
 "cells": [
  {
   "cell_type": "markdown",
   "id": "111c70c4",
   "metadata": {},
   "source": [
    "# 1 Explain Class and Object with respect to Object-Oriented Programming. Give a suitable example."
   ]
  },
  {
   "cell_type": "markdown",
   "id": "1b3c8723",
   "metadata": {},
   "source": [
    "Class = It's a blueprint of oops.\n",
    "Object = It's an instance of class"
   ]
  },
  {
   "cell_type": "markdown",
   "id": "dee1982a",
   "metadata": {},
   "source": [
    "# 2 Name the four pillars of OOPs."
   ]
  },
  {
   "cell_type": "markdown",
   "id": "1d1be7fe",
   "metadata": {},
   "source": [
    "The four pillar of OOPS are\n",
    "1} Polymorphism\n",
    "2} Encapsulation\n",
    "3} Inheritance\n",
    "4} Abstraction"
   ]
  },
  {
   "cell_type": "markdown",
   "id": "16d80272",
   "metadata": {},
   "source": [
    "# 3 Explain why the __init__() function is used. Give a suitable example."
   ]
  },
  {
   "cell_type": "markdown",
   "id": "c8533044",
   "metadata": {},
   "source": [
    " Init is inbuilt function used in oops to pass the data during class"
   ]
  },
  {
   "cell_type": "code",
   "execution_count": 1,
   "id": "f01245ca",
   "metadata": {},
   "outputs": [],
   "source": [
    "class pwskills1 :\n",
    "    \n",
    "    def __init__(self ,phone_number , email_id , student_id ):\n",
    "        self.phone_number = phone_number\n",
    "        self.email_id = email_id\n",
    "        self.student_id = student_id\n",
    "    \n",
    "    def return_student_deetials(self) : \n",
    "        return self.student_id ,self.phone_number ,self.email_id"
   ]
  },
  {
   "cell_type": "code",
   "execution_count": 2,
   "id": "4bbf282b",
   "metadata": {},
   "outputs": [],
   "source": [
    "rohan = pwskills1(122232432342, \"rohan@gmail.com\" , 101)"
   ]
  },
  {
   "cell_type": "code",
   "execution_count": 3,
   "id": "009b8722",
   "metadata": {},
   "outputs": [
    {
     "data": {
      "text/plain": [
       "101"
      ]
     },
     "execution_count": 3,
     "metadata": {},
     "output_type": "execute_result"
    }
   ],
   "source": [
    "rohan.student_id"
   ]
  },
  {
   "cell_type": "markdown",
   "id": "130c639d",
   "metadata": {},
   "source": [
    "# 4 Why self is used in OOPs?"
   ]
  },
  {
   "cell_type": "markdown",
   "id": "57c8e2ca",
   "metadata": {},
   "source": [
    "Self is used to pass the value in class "
   ]
  },
  {
   "cell_type": "markdown",
   "id": "4f89c6c9",
   "metadata": {},
   "source": [
    "# 5 What is inheritance? Give an example for each type of inheritance."
   ]
  },
  {
   "cell_type": "markdown",
   "id": "b45d21cf",
   "metadata": {},
   "source": [
    "Inheritance is one of the pillar of OOPS. Where new class acquire the property of existing class."
   ]
  }
 ],
 "metadata": {
  "kernelspec": {
   "display_name": "Python 3 (ipykernel)",
   "language": "python",
   "name": "python3"
  },
  "language_info": {
   "codemirror_mode": {
    "name": "ipython",
    "version": 3
   },
   "file_extension": ".py",
   "mimetype": "text/x-python",
   "name": "python",
   "nbconvert_exporter": "python",
   "pygments_lexer": "ipython3",
   "version": "3.11.5"
  }
 },
 "nbformat": 4,
 "nbformat_minor": 5
}
