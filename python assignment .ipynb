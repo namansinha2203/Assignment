{
 "cells": [
  {
   "cell_type": "markdown",
   "id": "aef651b8",
   "metadata": {},
   "source": [
    "# 1 Write a program to accept percentage from the user and display the grade"
   ]
  },
  {
   "cell_type": "code",
   "execution_count": 1,
   "id": "1f5d1d1b",
   "metadata": {},
   "outputs": [
    {
     "name": "stdout",
     "output_type": "stream",
     "text": [
      "Enter your percentage: 90\n",
      "Your grade is: A\n"
     ]
    }
   ],
   "source": [
    "percentage = float(input(\"Enter your percentage: \"))\n",
    "\n",
    "if percentage >= 90:\n",
    "    grade = 'A'\n",
    "elif percentage > 80 and percentage <= 90:\n",
    "    grade = 'B'\n",
    "elif percentage >= 60 and percentage <= 70:\n",
    "    grade = 'C'\n",
    "else:\n",
    "    grade = 'D'\n",
    "print(f\"Your grade is: {grade}\")\n"
   ]
  },
  {
   "cell_type": "markdown",
   "id": "a700aba0",
   "metadata": {},
   "source": [
    "# 2 Write a program to accept the cost price of a bike and display the road tax to be paid according to following crietria"
   ]
  },
  {
   "cell_type": "code",
   "execution_count": 2,
   "id": "b26576e5",
   "metadata": {},
   "outputs": [
    {
     "name": "stdout",
     "output_type": "stream",
     "text": [
      "Enter cost of your bike100000\n",
      "The road tax to be paid for the bike is: 15000.00\n"
     ]
    }
   ],
   "source": [
    "cost_price = float(input(\"Enter cost of your bike\"))\n",
    "\n",
    "if cost_price >10000:\n",
    "    tax = cost_price * 0.15\n",
    "elif cost_price >50000 and cost_price <=100000:\n",
    "    tax = cost_price * 0.10\n",
    "else:\n",
    "    tax = cost_price * 0.05\n",
    "print(f\"The road tax to be paid for the bike is: {tax:.2f}\")"
   ]
  },
  {
   "cell_type": "markdown",
   "id": "84bd12cd",
   "metadata": {},
   "source": [
    "# 3 Accept any city from user and display monuments of that city"
   ]
  },
  {
   "cell_type": "code",
   "execution_count": 3,
   "id": "ad44c476",
   "metadata": {},
   "outputs": [
    {
     "name": "stdout",
     "output_type": "stream",
     "text": [
      "Enter Your City:Delhi\n",
      "The monument in Delhi is the Red Fort.\n"
     ]
    }
   ],
   "source": [
    "city_monuments = {\n",
    "    \"Delhi\": \"Red Fort\",\n",
    "    \"Agra\": \"Taj Mahal\",\n",
    "    \"Jaipur\": \"Jal Mahal\"\n",
    "}\n",
    "city = input(\"Enter Your City:\")\n",
    "\n",
    "if city in city_monuments:\n",
    "        print(f\"The monument in {city} is the {city_monuments[city]}.\")\n",
    "else:\n",
    "    print(f\"Sorry, no monument information available for {city}.\")"
   ]
  },
  {
   "cell_type": "markdown",
   "id": "306914ec",
   "metadata": {},
   "source": [
    "# 4 Check how many times a given number can be divided by 3 before it is less than or equal to 10"
   ]
  },
  {
   "cell_type": "code",
   "execution_count": 6,
   "id": "9a7fec40",
   "metadata": {},
   "outputs": [
    {
     "name": "stdout",
     "output_type": "stream",
     "text": [
      "Enter your number500\n",
      "The number can be divided by 3 4 times before it becomes less than or equal to 10.\n"
     ]
    }
   ],
   "source": [
    "num = int(input(\"Enter your number\"))\n",
    "\n",
    "count = 0\n",
    "while num>10:\n",
    "    num /=3\n",
    "    count = count + 1\n",
    "print(f\"The number can be divided by 3 {count} times before it becomes less than or equal to 10.\")    "
   ]
  },
  {
   "cell_type": "markdown",
   "id": "1bdd01b4",
   "metadata": {},
   "source": [
    "# 5 Use nested while loop to print 3 different pattern"
   ]
  },
  {
   "cell_type": "markdown",
   "id": "61541a31",
   "metadata": {},
   "source": [
    "# 1 Right Angle Triangle"
   ]
  },
  {
   "cell_type": "code",
   "execution_count": null,
   "id": "56920ce0",
   "metadata": {},
   "outputs": [],
   "source": [
    "rows = 5\n",
    "i = 1\n",
    "while i <= rows:\n",
    "    j = 1\n",
    "    while j<= i:\n",
    "        print('*',end = '')\n",
    "        j = j+1\n",
    "    print()\n",
    "    i = i+1\n",
    "        \n",
    "\n",
    "    "
   ]
  },
  {
   "cell_type": "markdown",
   "id": "d935c459",
   "metadata": {},
   "source": [
    "# 2 Inverted Right Angled Triangle"
   ]
  },
  {
   "cell_type": "code",
   "execution_count": null,
   "id": "a4af21c6",
   "metadata": {},
   "outputs": [],
   "source": [
    "rows = 5\n",
    "i = rows\n",
    "while i >= 1:\n",
    "    j = 1\n",
    "    while j <= i:\n",
    "        print(\"*\",end='')\n",
    "        j+= 1\n",
    "    print()\n",
    "    i-= 1"
   ]
  },
  {
   "cell_type": "markdown",
   "id": "edce90d5",
   "metadata": {},
   "source": [
    "# 3 Pyramid Pattern"
   ]
  },
  {
   "cell_type": "code",
   "execution_count": null,
   "id": "ba0795c8",
   "metadata": {},
   "outputs": [],
   "source": [
    "rows = 5\n",
    "i = 1\n",
    "while i<= rows:\n",
    "    j = 1\n",
    "    while j<= rows-i:\n",
    "        print('',end='')\n",
    "        j+= 1\n",
    "    j = 1\n",
    "    while j <= (2 * i - 1):\n",
    "        print('*', end='')\n",
    "        j += 1\n",
    "    print()\n",
    "    i += 1\n",
    "    "
   ]
  },
  {
   "cell_type": "markdown",
   "id": "ce7a147b",
   "metadata": {},
   "source": [
    "# 7 Reverse a while loop to display number from 10 to 1"
   ]
  },
  {
   "cell_type": "code",
   "execution_count": null,
   "id": "7f45a0cc",
   "metadata": {},
   "outputs": [],
   "source": [
    "number = 10\n",
    "while number > 1:\n",
    "    print(number)\n",
    "    number = number - 1"
   ]
  }
 ],
 "metadata": {
  "kernelspec": {
   "display_name": "Python 3 (ipykernel)",
   "language": "python",
   "name": "python3"
  },
  "language_info": {
   "codemirror_mode": {
    "name": "ipython",
    "version": 3
   },
   "file_extension": ".py",
   "mimetype": "text/x-python",
   "name": "python",
   "nbconvert_exporter": "python",
   "pygments_lexer": "ipython3",
   "version": "3.11.5"
  }
 },
 "nbformat": 4,
 "nbformat_minor": 5
}
